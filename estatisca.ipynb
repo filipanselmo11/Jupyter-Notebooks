{
 "cells": [
  {
   "cell_type": "code",
   "execution_count": 15,
   "metadata": {},
   "outputs": [],
   "source": [
    "import pandas as pd\n",
    "import numpy as np\n",
    "import matplotlib.pyplot as plt"
   ]
  },
  {
   "cell_type": "code",
   "execution_count": 2,
   "metadata": {},
   "outputs": [],
   "source": [
    "# Gerar dados fictícios de habilidade dos jogadores (valores entre 0 e 100)\n",
    "np.random.seed(42)  # Define a semente aleatória para reprodução dos resultados\n",
    "habilidades = np.random.randint(0, 101, size=15)"
   ]
  },
  {
   "cell_type": "code",
   "execution_count": 3,
   "metadata": {},
   "outputs": [],
   "source": [
    "# Definir os intervalos de pontuação e seus rótulos\n",
    "intervalos = [0, 10, 20, 30, 40, 50, 60, 70, 80, 90, 100]\n",
    "rotulos = ['0-9', '10-19', '20-29', '30-39', '40-49', '50-59', '60-69', '70-79', '80-89', '90-100']\n"
   ]
  },
  {
   "cell_type": "code",
   "execution_count": 4,
   "metadata": {},
   "outputs": [],
   "source": [
    "# Criar a distribuição de frequência utilizando pd.cut\n",
    "distribuicao = pd.cut(habilidades, bins=intervalos, labels=rotulos, right=False)\n"
   ]
  },
  {
   "cell_type": "code",
   "execution_count": 12,
   "metadata": {},
   "outputs": [
    {
     "name": "stderr",
     "output_type": "stream",
     "text": [
      "/tmp/ipykernel_3114/1651250564.py:2: FutureWarning: pandas.value_counts is deprecated and will be removed in a future version. Use pd.Series(obj).value_counts() instead.\n",
      "  frequencia = pd.value_counts(distribuicao, sort=True)\n"
     ]
    },
    {
     "data": {
      "text/plain": [
       "20-29     3\n",
       "70-79     3\n",
       "80-89     3\n",
       "90-100    2\n",
       "0-9       1\n",
       "10-19     1\n",
       "50-59     1\n",
       "60-69     1\n",
       "30-39     0\n",
       "40-49     0\n",
       "Name: count, dtype: int64"
      ]
     },
     "execution_count": 12,
     "metadata": {},
     "output_type": "execute_result"
    }
   ],
   "source": [
    "# Calcular a contagem de frequência para cada intervalo\n",
    "frequencia = pd.value_counts(distribuicao, sort=True)\n",
    "frequencia"
   ]
  },
  {
   "cell_type": "code",
   "execution_count": 11,
   "metadata": {},
   "outputs": [
    {
     "data": {
      "text/plain": [
       "20-29     0.200000\n",
       "70-79     0.200000\n",
       "80-89     0.200000\n",
       "90-100    0.133333\n",
       "0-9       0.066667\n",
       "10-19     0.066667\n",
       "50-59     0.066667\n",
       "60-69     0.066667\n",
       "30-39     0.000000\n",
       "40-49     0.000000\n",
       "Name: count, dtype: float64"
      ]
     },
     "execution_count": 11,
     "metadata": {},
     "output_type": "execute_result"
    }
   ],
   "source": [
    "# Calcular a frequência relativa\n",
    "frequencia_relativa = frequencia / len(habilidades)\n",
    "frequencia_relativa\n"
   ]
  },
  {
   "cell_type": "code",
   "execution_count": 10,
   "metadata": {},
   "outputs": [
    {
     "data": {
      "text/plain": [
       "20-29      3\n",
       "70-79      6\n",
       "80-89      9\n",
       "90-100    11\n",
       "0-9       12\n",
       "10-19     13\n",
       "50-59     14\n",
       "60-69     15\n",
       "30-39     15\n",
       "40-49     15\n",
       "Name: count, dtype: int64"
      ]
     },
     "execution_count": 10,
     "metadata": {},
     "output_type": "execute_result"
    }
   ],
   "source": [
    "# Calcular a frequência acumulada\n",
    "frequencia_acumulada = frequencia.cumsum()\n",
    "frequencia_acumulada"
   ]
  },
  {
   "cell_type": "code",
   "execution_count": 13,
   "metadata": {},
   "outputs": [
    {
     "data": {
      "text/plain": [
       "20-29     0.200000\n",
       "70-79     0.400000\n",
       "80-89     0.600000\n",
       "90-100    0.733333\n",
       "0-9       0.800000\n",
       "10-19     0.866667\n",
       "50-59     0.933333\n",
       "60-69     1.000000\n",
       "30-39     1.000000\n",
       "40-49     1.000000\n",
       "Name: count, dtype: float64"
      ]
     },
     "execution_count": 13,
     "metadata": {},
     "output_type": "execute_result"
    }
   ],
   "source": [
    "frequencia_relativa_acumulada = frequencia_relativa.cumsum()\n",
    "frequencia_relativa_acumulada"
   ]
  },
  {
   "cell_type": "code",
   "execution_count": 14,
   "metadata": {},
   "outputs": [
    {
     "data": {
      "text/html": [
       "<div>\n",
       "<style scoped>\n",
       "    .dataframe tbody tr th:only-of-type {\n",
       "        vertical-align: middle;\n",
       "    }\n",
       "\n",
       "    .dataframe tbody tr th {\n",
       "        vertical-align: top;\n",
       "    }\n",
       "\n",
       "    .dataframe thead th {\n",
       "        text-align: right;\n",
       "    }\n",
       "</style>\n",
       "<table border=\"1\" class=\"dataframe\">\n",
       "  <thead>\n",
       "    <tr style=\"text-align: right;\">\n",
       "      <th></th>\n",
       "      <th>Intervalo de Pontuação</th>\n",
       "      <th>Frequência</th>\n",
       "      <th>Frequência Relativa</th>\n",
       "      <th>Frequência Acumulada</th>\n",
       "      <th>Frequência Relativa Acumulada</th>\n",
       "    </tr>\n",
       "  </thead>\n",
       "  <tbody>\n",
       "    <tr>\n",
       "      <th>0</th>\n",
       "      <td>20-29</td>\n",
       "      <td>3</td>\n",
       "      <td>0.200000</td>\n",
       "      <td>3</td>\n",
       "      <td>0.200000</td>\n",
       "    </tr>\n",
       "    <tr>\n",
       "      <th>1</th>\n",
       "      <td>70-79</td>\n",
       "      <td>3</td>\n",
       "      <td>0.200000</td>\n",
       "      <td>6</td>\n",
       "      <td>0.400000</td>\n",
       "    </tr>\n",
       "    <tr>\n",
       "      <th>2</th>\n",
       "      <td>80-89</td>\n",
       "      <td>3</td>\n",
       "      <td>0.200000</td>\n",
       "      <td>9</td>\n",
       "      <td>0.600000</td>\n",
       "    </tr>\n",
       "    <tr>\n",
       "      <th>3</th>\n",
       "      <td>90-100</td>\n",
       "      <td>2</td>\n",
       "      <td>0.133333</td>\n",
       "      <td>11</td>\n",
       "      <td>0.733333</td>\n",
       "    </tr>\n",
       "    <tr>\n",
       "      <th>4</th>\n",
       "      <td>0-9</td>\n",
       "      <td>1</td>\n",
       "      <td>0.066667</td>\n",
       "      <td>12</td>\n",
       "      <td>0.800000</td>\n",
       "    </tr>\n",
       "    <tr>\n",
       "      <th>5</th>\n",
       "      <td>10-19</td>\n",
       "      <td>1</td>\n",
       "      <td>0.066667</td>\n",
       "      <td>13</td>\n",
       "      <td>0.866667</td>\n",
       "    </tr>\n",
       "    <tr>\n",
       "      <th>6</th>\n",
       "      <td>50-59</td>\n",
       "      <td>1</td>\n",
       "      <td>0.066667</td>\n",
       "      <td>14</td>\n",
       "      <td>0.933333</td>\n",
       "    </tr>\n",
       "    <tr>\n",
       "      <th>7</th>\n",
       "      <td>60-69</td>\n",
       "      <td>1</td>\n",
       "      <td>0.066667</td>\n",
       "      <td>15</td>\n",
       "      <td>1.000000</td>\n",
       "    </tr>\n",
       "    <tr>\n",
       "      <th>8</th>\n",
       "      <td>30-39</td>\n",
       "      <td>0</td>\n",
       "      <td>0.000000</td>\n",
       "      <td>15</td>\n",
       "      <td>1.000000</td>\n",
       "    </tr>\n",
       "    <tr>\n",
       "      <th>9</th>\n",
       "      <td>40-49</td>\n",
       "      <td>0</td>\n",
       "      <td>0.000000</td>\n",
       "      <td>15</td>\n",
       "      <td>1.000000</td>\n",
       "    </tr>\n",
       "  </tbody>\n",
       "</table>\n",
       "</div>"
      ],
      "text/plain": [
       "  Intervalo de Pontuação  Frequência  Frequência Relativa  \\\n",
       "0                  20-29           3             0.200000   \n",
       "1                  70-79           3             0.200000   \n",
       "2                  80-89           3             0.200000   \n",
       "3                 90-100           2             0.133333   \n",
       "4                    0-9           1             0.066667   \n",
       "5                  10-19           1             0.066667   \n",
       "6                  50-59           1             0.066667   \n",
       "7                  60-69           1             0.066667   \n",
       "8                  30-39           0             0.000000   \n",
       "9                  40-49           0             0.000000   \n",
       "\n",
       "   Frequência Acumulada  Frequência Relativa Acumulada  \n",
       "0                     3                       0.200000  \n",
       "1                     6                       0.400000  \n",
       "2                     9                       0.600000  \n",
       "3                    11                       0.733333  \n",
       "4                    12                       0.800000  \n",
       "5                    13                       0.866667  \n",
       "6                    14                       0.933333  \n",
       "7                    15                       1.000000  \n",
       "8                    15                       1.000000  \n",
       "9                    15                       1.000000  "
      ]
     },
     "execution_count": 14,
     "metadata": {},
     "output_type": "execute_result"
    }
   ],
   "source": [
    "# Criar o DataFrame com os intervalos e suas frequências\n",
    "distribuicao_df = pd.DataFrame({\n",
    "    'Intervalo de Pontuação': frequencia.index,\n",
    "    'Frequência': frequencia.values,\n",
    "    'Frequência Relativa': frequencia_relativa.values,\n",
    "    'Frequência Acumulada': frequencia_acumulada.values,\n",
    "    'Frequência Relativa Acumulada': frequencia_relativa_acumulada.values\n",
    "})\n",
    "distribuicao_df"
   ]
  },
  {
   "cell_type": "code",
   "execution_count": 16,
   "metadata": {},
   "outputs": [
    {
     "data": {
      "image/png": "[encoded data removed]",
      "text/plain": [
       "<Figure size 640x480 with 1 Axes>"
      ]
     },
     "metadata": {},
     "output_type": "display_data"
    }
   ],
   "source": [
    "plt.bar(distribuicao_df['Intervalo de Pontuação'], distribuicao_df['Frequência'])\n",
    "plt.xlabel('Intervalo de Pontuação')\n",
    "plt.ylabel('Frequência')\n",
    "plt.title('Distribuição de Frequência de Jogadores de SF 6')\n",
    "plt.show()"
   ]
  }
 ],
 "metadata": {
  "kernelspec": {
   "display_name": "base",
   "language": "python",
   "name": "python3"
  },
  "language_info": {
   "codemirror_mode": {
    "name": "ipython",
    "version": 3
   },
   "file_extension": ".py",
   "mimetype": "text/x-python",
   "name": "python",
   "nbconvert_exporter": "python",
   "pygments_lexer": "ipython3",
   "version": "3.11.7"
  }
 },
 "nbformat": 4,
 "nbformat_minor": 2
}
